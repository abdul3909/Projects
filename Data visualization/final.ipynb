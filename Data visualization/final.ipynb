{
  "cells":[
    {
      "cell_type":"markdown",
      "source":[
        "# Generate Descriptive Statistics and Visualizations"
      ],
      "attachments":{
        
      },
      "metadata":{
        
      }
    },
    {
      "cell_type":"code",
      "source":[
        "import pandas as pd\n",
        "import scipy.stats\n",
        "import statsmodels.api as sm\n",
        "import seaborn as sns\n",
        "import matplotlib.pyplot as plt"
      ],
      "execution_count":0,
      "outputs":[
        
      ],
      "metadata":{
        
      }
    },
    {
      "cell_type":"code",
      "source":[
        "boston_url = 'https:\/\/cf-courses-data.s3.us.cloud-object-storage.appdomain.cloud\/IBMDeveloperSkillsNetwork-ST0151EN-SkillsNetwork\/labs\/boston_housing.csv'\n",
        "boston_df=pd.read_csv(boston_url)"
      ],
      "execution_count":0,
      "outputs":[
        
      ],
      "metadata":{
        
      }
    },
    {
      "cell_type":"code",
      "source":[
        "boston_df.head(5)"
      ],
      "execution_count":0,
      "outputs":[
        {
          "data":{
            "text\/html":[
              "<div>\n",
              "<style scoped>\n",
              "    .dataframe tbody tr th:only-of-type {\n",
              "        vertical-align: middle;\n",
              "    }\n",
              "\n",
              "    .dataframe tbody tr th {\n",
              "        vertical-align: top;\n",
              "    }\n",
              "\n",
              "    .dataframe thead th {\n",
              "        text-align: right;\n",
              "    }\n",
              "<\/style>\n",
              "<table border=\"1\" class=\"dataframe\">\n",
              "  <thead>\n",
              "    <tr style=\"text-align: right;\">\n",
              "      <th><\/th>\n",
              "      <th>Unnamed: 0<\/th>\n",
              "      <th>CRIM<\/th>\n",
              "      <th>ZN<\/th>\n",
              "      <th>INDUS<\/th>\n",
              "      <th>CHAS<\/th>\n",
              "      <th>NOX<\/th>\n",
              "      <th>RM<\/th>\n",
              "      <th>AGE<\/th>\n",
              "      <th>DIS<\/th>\n",
              "      <th>RAD<\/th>\n",
              "      <th>TAX<\/th>\n",
              "      <th>PTRATIO<\/th>\n",
              "      <th>LSTAT<\/th>\n",
              "      <th>MEDV<\/th>\n",
              "    <\/tr>\n",
              "  <\/thead>\n",
              "  <tbody>\n",
              "    <tr>\n",
              "      <th>0<\/th>\n",
              "      <td>0<\/td>\n",
              "      <td>0.00632<\/td>\n",
              "      <td>18.0<\/td>\n",
              "      <td>2.31<\/td>\n",
              "      <td>0.0<\/td>\n",
              "      <td>0.538<\/td>\n",
              "      <td>6.575<\/td>\n",
              "      <td>65.2<\/td>\n",
              "      <td>4.0900<\/td>\n",
              "      <td>1.0<\/td>\n",
              "      <td>296.0<\/td>\n",
              "      <td>15.3<\/td>\n",
              "      <td>4.98<\/td>\n",
              "      <td>24.0<\/td>\n",
              "    <\/tr>\n",
              "    <tr>\n",
              "      <th>1<\/th>\n",
              "      <td>1<\/td>\n",
              "      <td>0.02731<\/td>\n",
              "      <td>0.0<\/td>\n",
              "      <td>7.07<\/td>\n",
              "      <td>0.0<\/td>\n",
              "      <td>0.469<\/td>\n",
              "      <td>6.421<\/td>\n",
              "      <td>78.9<\/td>\n",
              "      <td>4.9671<\/td>\n",
              "      <td>2.0<\/td>\n",
              "      <td>242.0<\/td>\n",
              "      <td>17.8<\/td>\n",
              "      <td>9.14<\/td>\n",
              "      <td>21.6<\/td>\n",
              "    <\/tr>\n",
              "    <tr>\n",
              "      <th>2<\/th>\n",
              "      <td>2<\/td>\n",
              "      <td>0.02729<\/td>\n",
              "      <td>0.0<\/td>\n",
              "      <td>7.07<\/td>\n",
              "      <td>0.0<\/td>\n",
              "      <td>0.469<\/td>\n",
              "      <td>7.185<\/td>\n",
              "      <td>61.1<\/td>\n",
              "      <td>4.9671<\/td>\n",
              "      <td>2.0<\/td>\n",
              "      <td>242.0<\/td>\n",
              "      <td>17.8<\/td>\n",
              "      <td>4.03<\/td>\n",
              "      <td>34.7<\/td>\n",
              "    <\/tr>\n",
              "    <tr>\n",
              "      <th>3<\/th>\n",
              "      <td>3<\/td>\n",
              "      <td>0.03237<\/td>\n",
              "      <td>0.0<\/td>\n",
              "      <td>2.18<\/td>\n",
              "      <td>0.0<\/td>\n",
              "      <td>0.458<\/td>\n",
              "      <td>6.998<\/td>\n",
              "      <td>45.8<\/td>\n",
              "      <td>6.0622<\/td>\n",
              "      <td>3.0<\/td>\n",
              "      <td>222.0<\/td>\n",
              "      <td>18.7<\/td>\n",
              "      <td>2.94<\/td>\n",
              "      <td>33.4<\/td>\n",
              "    <\/tr>\n",
              "    <tr>\n",
              "      <th>4<\/th>\n",
              "      <td>4<\/td>\n",
              "      <td>0.06905<\/td>\n",
              "      <td>0.0<\/td>\n",
              "      <td>2.18<\/td>\n",
              "      <td>0.0<\/td>\n",
              "      <td>0.458<\/td>\n",
              "      <td>7.147<\/td>\n",
              "      <td>54.2<\/td>\n",
              "      <td>6.0622<\/td>\n",
              "      <td>3.0<\/td>\n",
              "      <td>222.0<\/td>\n",
              "      <td>18.7<\/td>\n",
              "      <td>5.33<\/td>\n",
              "      <td>36.2<\/td>\n",
              "    <\/tr>\n",
              "  <\/tbody>\n",
              "<\/table>\n",
              "<\/div>"
            ]
          },
          "metadata":{
            
          },
          "output_type":"display_data"
        }
      ],
      "metadata":{
        
      }
    },
    {
      "cell_type":"markdown",
      "source":[
        "# **We will generate the following and explain our findings:**\n",
        "\n",
        "- For the \"Median value of owner-occupied homes\" provide a boxplot\n",
        "- Provide a  histogram for the Charles river variable\n",
        "- Provide a boxplot for the MEDV variable vs the AGE variable. (Discretize the age variable into three groups of 35 years and younger, between 35 and 70 years and 70 years and older)\n",
        "- Provide a scatter plot to show the relationship between Nitric oxide concentrations and the proportion of non-retail business acres per town. What can you say about the relationship?\n",
        "- Create a histogram for the pupil to teacher ratio variable"
      ],
      "attachments":{
        
      },
      "metadata":{
        
      }
    },
    {
      "cell_type":"markdown",
      "source":[
        "### 1: Median value of owner-occupied homes\n",
        "\n",
        "Median value of owner-occupied homes in $1000's will be:"
      ],
      "attachments":{
        
      },
      "metadata":{
        
      }
    },
    {
      "cell_type":"code",
      "source":[
        "md = sns.boxplot(x='MEDV', data=boston_df)"
      ],
      "execution_count":0,
      "outputs":[
        {
          "data":{
            "image\/png":"[encoded data removed]"
          },
          "metadata":{
            "image\/png":{
              
            }
          },
          "output_type":"display_data"
        }
      ],
      "metadata":{
        
      }
    },
    {
      "cell_type":"markdown",
      "source":[
        "### 2: Histogram for the Charles river variable"
      ],
      "attachments":{
        
      },
      "metadata":{
        
      }
    },
    {
      "cell_type":"code",
      "source":[
        "cr = sns.catplot(x='CHAS', kind='count', data=boston_df)"
      ],
      "execution_count":0,
      "outputs":[
        {
          "data":{
            "image\/png":"[encoded data removed]"
          },
          "metadata":{
            "image\/png":{
              
            }
          },
          "output_type":"display_data"
        }
      ],
      "metadata":{
        
      }
    },
    {
      "cell_type":"markdown",
      "source":[
        "### 3: Boxplot for the MEDV variable vs the AGE variable\n",
        "\n",
        "We will discretize the age variable into three groups of 35 years and younger, between 35 and 70 years and 70 years and older"
      ],
      "attachments":{
        
      },
      "metadata":{
        
      }
    },
    {
      "cell_type":"code",
      "source":[
        "boston_df.loc[(boston_df.AGE <= 35), 'new_age'] = '35 years and younger'\n",
        "boston_df.loc[(boston_df.AGE > 35)&(boston_df.AGE < 70), 'new_age'] = \"between 35 and 70 years\"\n",
        "boston_df.loc[(boston_df.AGE >=70), 'new_age'] = \"70 years and older\"\n",
        "\n",
        "ag = sns.boxplot(x='new_age', y='MEDV', data=boston_df)"
      ],
      "execution_count":0,
      "outputs":[
        {
          "data":{
            "image\/png":"[encoded data removed]"
          },
          "metadata":{
            "image\/png":{
              
            }
          },
          "output_type":"display_data"
        }
      ],
      "metadata":{
        
      }
    },
    {
      "cell_type":"markdown",
      "source":[
        "### 4: Relationship between Nitric oxide concentrations and the proportion of non-retail business acres per town"
      ],
      "attachments":{
        
      },
      "metadata":{
        
      }
    },
    {
      "cell_type":"code",
      "source":[
        "sns.scatterplot(x='NOX', y='INDUS', data=boston_df)"
      ],
      "execution_count":0,
      "outputs":[
        {
          "data":{
            "text\/plain":[
              "<AxesSubplot:xlabel='NOX', ylabel='INDUS'>"
            ],
            "image\/png":"[encoded data removed]"
          },
          "metadata":{
            "image\/png":{
              
            }
          },
          "output_type":"display_data"
        }
      ],
      "metadata":{
        
      }
    },
    {
      "cell_type":"markdown",
      "source":[
        "### 5: Histogram for the pupil to teacher ratio variable"
      ],
      "attachments":{
        
      },
      "metadata":{
        
      }
    },
    {
      "cell_type":"code",
      "source":[
        "plt.hist(boston_df.PTRATIO, color='green')"
      ],
      "execution_count":0,
      "outputs":[
        {
          "data":{
            "text\/plain":[
              "(array([ 15.,   2.,  58.,  15.,  35.,  69.,  76.,  40., 178.,  18.]),\n",
              " array([12.6 , 13.54, 14.48, 15.42, 16.36, 17.3 , 18.24, 19.18, 20.12, 21.06, 22.  ]),\n",
              " <BarContainer object of 10 artists>)"
            ],
            "image\/png":"[encoded data removed]"
          },
          "metadata":{
            "image\/png":{
              
            }
          },
          "output_type":"display_data"
        }
      ],
      "metadata":{
        
      }
    },
    {
      "cell_type":"markdown",
      "source":[
        "# For each of the following questions;\n",
        "\n",
        "- Is there a significant difference in median value of houses bounded by the Charles river or not? (T-test for independent samples)\n",
        "- Is there a difference in Median values of houses (MEDV) for each proportion of owner occupied units built prior to 1940 (AGE)? (ANOVA)\n",
        "- Can we conclude that there is no relationship between Nitric oxide concentrations and proportion of non-retail business acres per town? (Pearson Correlation)\n",
        "- What is the impact of an additional weighted distance  to the five Boston employment centres on the median value of owner occupied homes? (Regression analysis)"
      ],
      "attachments":{
        
      },
      "metadata":{
        
      }
    },
    {
      "cell_type":"markdown",
      "source":[
        "1. ### Significant difference in median value of houses\n",
        "#### Hypothesis:\n",
        "1. There is no difference in median value of houses bounded by the Charles river\n",
        "2. There is a difference in median value of houses bounded by the Charles river"
      ],
      "attachments":{
        
      },
      "metadata":{
        
      }
    },
    {
      "cell_type":"code",
      "source":[
        "scipy.stats.levene(boston_df[boston_df['CHAS'] == 0]['MEDV'],\n",
        "                   boston_df[boston_df['CHAS'] == 1]['MEDV'], center='mean')"
      ],
      "execution_count":0,
      "outputs":[
        {
          "data":{
            "text\/plain":[
              "LeveneResult(statistic=8.751904896045998, pvalue=0.003238119367639829)"
            ]
          },
          "metadata":{
            
          },
          "output_type":"display_data"
        }
      ],
      "metadata":{
        
      }
    },
    {
      "cell_type":"code",
      "source":[
        "scipy.stats.ttest_ind(boston_df[boston_df['CHAS'] == 0]['MEDV'],\n",
        "                   boston_df[boston_df['CHAS'] == 1]['MEDV'], equal_var = False)"
      ],
      "execution_count":0,
      "outputs":[
        {
          "data":{
            "text\/plain":[
              "Ttest_indResult(statistic=-3.113291312794837, pvalue=0.003567170098137517)"
            ]
          },
          "metadata":{
            
          },
          "output_type":"display_data"
        }
      ],
      "metadata":{
        
      }
    },
    {
      "cell_type":"markdown",
      "source":[
        "#### Conclusion:\n",
        "Since the p-value is less than 0.05, we will reject the null hypothesis as there is enough proof that there is a statistical difference in median value of owner occupied homes based on Charles river variable"
      ],
      "attachments":{
        
      },
      "metadata":{
        
      }
    },
    {
      "cell_type":"markdown",
      "source":[
        "2. ### Difference in Median values of houses (MEDV) for each proportion of owner occupied units built prior to 1940.\n",
        "#### Hypothesis:\n",
        "- All means(3) are equal.\n",
        "- Atleast one mean is different."
      ],
      "attachments":{
        
      },
      "metadata":{
        
      }
    },
    {
      "cell_type":"code",
      "source":[
        "scipy.stats.levene(boston_df[boston_df['new_age'] == '35 years and younger']['MEDV'],\n",
        "                   boston_df[boston_df['new_age'] == 'between 35 and 70 years']['MEDV'], \n",
        "                   boston_df[boston_df['new_age'] == '70 years and older']['MEDV'], \n",
        "                   center='mean')"
      ],
      "execution_count":0,
      "outputs":[
        {
          "data":{
            "text\/plain":[
              "LeveneResult(statistic=2.780620029374844, pvalue=0.06295337343259205)"
            ]
          },
          "metadata":{
            
          },
          "output_type":"display_data"
        }
      ],
      "metadata":{
        
      }
    },
    {
      "cell_type":"markdown",
      "source":[
        "#### Since, p-value is more than 0.05, the variance are equal."
      ],
      "attachments":{
        
      },
      "metadata":{
        
      }
    },
    {
      "cell_type":"code",
      "source":[
        "younger = boston_df[boston_df['new_age'] == '35 years and younger']['MEDV']\n",
        "middle = boston_df[boston_df['new_age'] == 'between 35 and 70 years']['MEDV']\n",
        "older = boston_df[boston_df['new_age'] == '70 years and older']['MEDV']\n",
        "# ANOVA test\n",
        "f_statistic, p_value = scipy.stats.f_oneway(younger, middle, older)\n",
        "print(\"F_Statistic: {0}, P-Value: {1}\".format(f_statistic,p_value))"
      ],
      "execution_count":0,
      "outputs":[
        {
          "name":"stdout",
          "text":[
            "F_Statistic: 36.40764999196599, P-Value: 1.7105011022702984e-15\n"
          ],
          "output_type":"stream"
        }
      ],
      "metadata":{
        
      }
    },
    {
      "cell_type":"markdown",
      "source":[
        "#### Conclusion:\n",
        "- Since, the p-value is less than 0.05, we will reject the null hypothesis as there is a significant evidence that at least one of the means differ."
      ],
      "attachments":{
        
      },
      "metadata":{
        
      }
    },
    {
      "cell_type":"markdown",
      "source":[
        "### 3. Relationship between Nitric oxide concentrations and proportion of non-retail business acres per town\n",
        "#### Hypothesis:\n",
        "- Both of them will nor correlate\n",
        "- Both of them will correlate"
      ],
      "attachments":{
        
      },
      "metadata":{
        
      }
    },
    {
      "cell_type":"code",
      "source":[
        "scipy.stats.pearsonr(boston_df['NOX'], boston_df['INDUS'])"
      ],
      "execution_count":0,
      "outputs":[
        {
          "data":{
            "text\/plain":[
              "(0.7636514469209151, 7.913361061238693e-98)"
            ]
          },
          "metadata":{
            
          },
          "output_type":"display_data"
        }
      ],
      "metadata":{
        
      }
    },
    {
      "cell_type":"markdown",
      "source":[
        "#### Conclusion:\n",
        "- Since the p-value < 0.05, we reject the Null hypothesis and conclude that there exists a relationship between NOX and INDUS."
      ],
      "attachments":{
        
      },
      "metadata":{
        
      }
    },
    {
      "cell_type":"markdown",
      "source":[
        "### 4. Impact of an additional weighted distance to the five Boston employment centres on the median value of owner occupied homes\n",
        "#### Hypothesis:\n",
        "- DIS is not correlated with MEDV\n",
        "- DIS is correlated with MEDV"
      ],
      "attachments":{
        
      },
      "metadata":{
        
      }
    },
    {
      "cell_type":"code",
      "source":[
        "X = boston_df['DIS']\n",
        "y = boston_df['MEDV']\n",
        "z = sm.add_constant(X) \n",
        "\n",
        "model = sm.OLS(y, z).fit()\n",
        "predictions = model.predict(z)\n",
        "\n",
        "model.summary()"
      ],
      "execution_count":0,
      "outputs":[
        {
          "data":{
            "text\/html":[
              "<table class=\"simpletable\">\n",
              "<caption>OLS Regression Results<\/caption>\n",
              "<tr>\n",
              "  <th>Dep. Variable:<\/th>          <td>MEDV<\/td>       <th>  R-squared:         <\/th> <td>   0.062<\/td>\n",
              "<\/tr>\n",
              "<tr>\n",
              "  <th>Model:<\/th>                   <td>OLS<\/td>       <th>  Adj. R-squared:    <\/th> <td>   0.061<\/td>\n",
              "<\/tr>\n",
              "<tr>\n",
              "  <th>Method:<\/th>             <td>Least Squares<\/td>  <th>  F-statistic:       <\/th> <td>   33.58<\/td>\n",
              "<\/tr>\n",
              "<tr>\n",
              "  <th>Date:<\/th>             <td>Sat, 24 Jul 2021<\/td> <th>  Prob (F-statistic):<\/th> <td>1.21e-08<\/td>\n",
              "<\/tr>\n",
              "<tr>\n",
              "  <th>Time:<\/th>                 <td>07:05:34<\/td>     <th>  Log-Likelihood:    <\/th> <td> -1823.9<\/td>\n",
              "<\/tr>\n",
              "<tr>\n",
              "  <th>No. Observations:<\/th>      <td>   506<\/td>      <th>  AIC:               <\/th> <td>   3652.<\/td>\n",
              "<\/tr>\n",
              "<tr>\n",
              "  <th>Df Residuals:<\/th>          <td>   504<\/td>      <th>  BIC:               <\/th> <td>   3660.<\/td>\n",
              "<\/tr>\n",
              "<tr>\n",
              "  <th>Df Model:<\/th>              <td>     1<\/td>      <th>                     <\/th>     <td> <\/td>   \n",
              "<\/tr>\n",
              "<tr>\n",
              "  <th>Covariance Type:<\/th>      <td>nonrobust<\/td>    <th>                     <\/th>     <td> <\/td>   \n",
              "<\/tr>\n",
              "<\/table>\n",
              "<table class=\"simpletable\">\n",
              "<tr>\n",
              "    <td><\/td>       <th>coef<\/th>     <th>std err<\/th>      <th>t<\/th>      <th>P>|t|<\/th>  <th>[0.025<\/th>    <th>0.975]<\/th>  \n",
              "<\/tr>\n",
              "<tr>\n",
              "  <th>const<\/th> <td>   18.3901<\/td> <td>    0.817<\/td> <td>   22.499<\/td> <td> 0.000<\/td> <td>   16.784<\/td> <td>   19.996<\/td>\n",
              "<\/tr>\n",
              "<tr>\n",
              "  <th>DIS<\/th>   <td>    1.0916<\/td> <td>    0.188<\/td> <td>    5.795<\/td> <td> 0.000<\/td> <td>    0.722<\/td> <td>    1.462<\/td>\n",
              "<\/tr>\n",
              "<\/table>\n",
              "<table class=\"simpletable\">\n",
              "<tr>\n",
              "  <th>Omnibus:<\/th>       <td>139.779<\/td> <th>  Durbin-Watson:     <\/th> <td>   0.570<\/td>\n",
              "<\/tr>\n",
              "<tr>\n",
              "  <th>Prob(Omnibus):<\/th> <td> 0.000<\/td>  <th>  Jarque-Bera (JB):  <\/th> <td> 305.104<\/td>\n",
              "<\/tr>\n",
              "<tr>\n",
              "  <th>Skew:<\/th>          <td> 1.466<\/td>  <th>  Prob(JB):          <\/th> <td>5.59e-67<\/td>\n",
              "<\/tr>\n",
              "<tr>\n",
              "  <th>Kurtosis:<\/th>      <td> 5.424<\/td>  <th>  Cond. No.          <\/th> <td>    9.32<\/td>\n",
              "<\/tr>\n",
              "<\/table><br\/><br\/>Notes:<br\/>[1] Standard Errors assume that the covariance matrix of the errors is correctly specified."
            ]
          },
          "metadata":{
            
          },
          "output_type":"display_data"
        }
      ],
      "metadata":{
        
      }
    },
    {
      "cell_type":"markdown",
      "source":[
        "#### Conclusion:\n",
        "- Since the p-value < 0.05, we will reject the Null hypothesis and conclude that there exists a relationship between DIS and MEDV."
      ],
      "attachments":{
        
      },
      "metadata":{
        
      }
    },
    {
      "cell_type":"code",
      "source":[
        
      ],
      "execution_count":0,
      "outputs":[
        
      ],
      "metadata":{
        
      }
    }
  ],
  "metadata":{
    
  },
  "nbformat":4,
  "nbformat_minor":0
}